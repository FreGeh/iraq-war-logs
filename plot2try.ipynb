{
 "cells": [
  {
   "cell_type": "code",
   "execution_count": 4,
   "metadata": {},
   "outputs": [
    {
     "ename": "AttributeError",
     "evalue": "'str' object has no attribute 'read'",
     "output_type": "error",
     "traceback": [
      "\u001b[0;31m---------------------------------------------------------------------------\u001b[0m",
      "\u001b[0;31mAttributeError\u001b[0m                            Traceback (most recent call last)",
      "Cell \u001b[0;32mIn[4], line 7\u001b[0m\n\u001b[1;32m      3\u001b[0m \u001b[39mimport\u001b[39;00m \u001b[39mgeopandas\u001b[39;00m \u001b[39mas\u001b[39;00m \u001b[39mgpd\u001b[39;00m\n\u001b[1;32m      4\u001b[0m \u001b[39mimport\u001b[39;00m \u001b[39mplotly\u001b[39;00m\u001b[39m.\u001b[39;00m\u001b[39mexpress\u001b[39;00m \u001b[39mas\u001b[39;00m \u001b[39mpx\u001b[39;00m\n\u001b[0;32m----> 7\u001b[0m provinces \u001b[39m=\u001b[39m json\u001b[39m.\u001b[39;49mload(\u001b[39m\"\u001b[39;49m\u001b[39miraq_provinces.geojson\u001b[39;49m\u001b[39m\"\u001b[39;49m)\n\u001b[1;32m     10\u001b[0m fig \u001b[39m=\u001b[39m px\u001b[39m.\u001b[39mchoropleth(geojson\u001b[39m=\u001b[39mprovinces, locations\u001b[39m=\u001b[39m\u001b[39m'\u001b[39m\u001b[39mfips\u001b[39m\u001b[39m'\u001b[39m, color\u001b[39m=\u001b[39m\u001b[39m'\u001b[39m\u001b[39munemp\u001b[39m\u001b[39m'\u001b[39m,\n\u001b[1;32m     11\u001b[0m                            color_continuous_scale\u001b[39m=\u001b[39m\u001b[39m\"\u001b[39m\u001b[39mViridis\u001b[39m\u001b[39m\"\u001b[39m,\n\u001b[1;32m     12\u001b[0m                            range_color\u001b[39m=\u001b[39m(\u001b[39m0\u001b[39m, \u001b[39m12\u001b[39m),\n\u001b[1;32m     13\u001b[0m                            scope\u001b[39m=\u001b[39m\u001b[39m\"\u001b[39m\u001b[39musa\u001b[39m\u001b[39m\"\u001b[39m,\n\u001b[1;32m     14\u001b[0m                            labels\u001b[39m=\u001b[39m{\u001b[39m'\u001b[39m\u001b[39munemp\u001b[39m\u001b[39m'\u001b[39m:\u001b[39m'\u001b[39m\u001b[39munemployment rate\u001b[39m\u001b[39m'\u001b[39m}\n\u001b[1;32m     15\u001b[0m                           )\n\u001b[1;32m     16\u001b[0m fig\u001b[39m.\u001b[39mupdate_layout(margin\u001b[39m=\u001b[39m{\u001b[39m\"\u001b[39m\u001b[39mr\u001b[39m\u001b[39m\"\u001b[39m:\u001b[39m0\u001b[39m,\u001b[39m\"\u001b[39m\u001b[39mt\u001b[39m\u001b[39m\"\u001b[39m:\u001b[39m0\u001b[39m,\u001b[39m\"\u001b[39m\u001b[39ml\u001b[39m\u001b[39m\"\u001b[39m:\u001b[39m0\u001b[39m,\u001b[39m\"\u001b[39m\u001b[39mb\u001b[39m\u001b[39m\"\u001b[39m:\u001b[39m0\u001b[39m})\n",
      "File \u001b[0;32m/Library/Frameworks/Python.framework/Versions/3.8/lib/python3.8/json/__init__.py:293\u001b[0m, in \u001b[0;36mload\u001b[0;34m(fp, cls, object_hook, parse_float, parse_int, parse_constant, object_pairs_hook, **kw)\u001b[0m\n\u001b[1;32m    274\u001b[0m \u001b[39mdef\u001b[39;00m \u001b[39mload\u001b[39m(fp, \u001b[39m*\u001b[39m, \u001b[39mcls\u001b[39m\u001b[39m=\u001b[39m\u001b[39mNone\u001b[39;00m, object_hook\u001b[39m=\u001b[39m\u001b[39mNone\u001b[39;00m, parse_float\u001b[39m=\u001b[39m\u001b[39mNone\u001b[39;00m,\n\u001b[1;32m    275\u001b[0m         parse_int\u001b[39m=\u001b[39m\u001b[39mNone\u001b[39;00m, parse_constant\u001b[39m=\u001b[39m\u001b[39mNone\u001b[39;00m, object_pairs_hook\u001b[39m=\u001b[39m\u001b[39mNone\u001b[39;00m, \u001b[39m*\u001b[39m\u001b[39m*\u001b[39mkw):\n\u001b[1;32m    276\u001b[0m \u001b[39m    \u001b[39m\u001b[39m\"\"\"Deserialize ``fp`` (a ``.read()``-supporting file-like object containing\u001b[39;00m\n\u001b[1;32m    277\u001b[0m \u001b[39m    a JSON document) to a Python object.\u001b[39;00m\n\u001b[1;32m    278\u001b[0m \n\u001b[0;32m   (...)\u001b[0m\n\u001b[1;32m    291\u001b[0m \u001b[39m    kwarg; otherwise ``JSONDecoder`` is used.\u001b[39;00m\n\u001b[1;32m    292\u001b[0m \u001b[39m    \"\"\"\u001b[39;00m\n\u001b[0;32m--> 293\u001b[0m     \u001b[39mreturn\u001b[39;00m loads(fp\u001b[39m.\u001b[39;49mread(),\n\u001b[1;32m    294\u001b[0m         \u001b[39mcls\u001b[39m\u001b[39m=\u001b[39m\u001b[39mcls\u001b[39m, object_hook\u001b[39m=\u001b[39mobject_hook,\n\u001b[1;32m    295\u001b[0m         parse_float\u001b[39m=\u001b[39mparse_float, parse_int\u001b[39m=\u001b[39mparse_int,\n\u001b[1;32m    296\u001b[0m         parse_constant\u001b[39m=\u001b[39mparse_constant, object_pairs_hook\u001b[39m=\u001b[39mobject_pairs_hook, \u001b[39m*\u001b[39m\u001b[39m*\u001b[39mkw)\n",
      "\u001b[0;31mAttributeError\u001b[0m: 'str' object has no attribute 'read'"
     ]
    }
   ],
   "source": [
    "import json\n",
    "import geopandas as gpd\n",
    "import plotly.express as px\n",
    "\n",
    "with open(\"iraq_provinces.geojson\") as f:\n",
    "    provinces = json.load(f)\n",
    "\n",
    "# Convert to a GeoDataFrame\n",
    "gdf = gpd.GeoDataFrame.from_features(provinces[\"features\"])\n",
    "\n",
    "# Assuming 'NAME_1' field is the province name in your geojson\n",
    "fig = px.choropleth(gdf, geojson=provinces, locations='NAME_1',\n",
    "                           color='NAME_1',  # or any other field you want to color by\n",
    "                           color_continuous_scale=\"Viridis\",\n",
    "                           scope=\"asia\",  # Changed to 'asia' from 'usa'\n",
    "                           labels={'NAME_1':'Province Name'}  # update labels as per your data\n",
    "                          )\n",
    "fig.update_geos(showcountries=False, showcoastlines=True, showland=True, fitbounds=\"locations\")\n",
    "fig.update_layout(margin={\"r\":0,\"t\":0,\"l\":0,\"b\":0})\n",
    "fig.show()\n"
   ]
  },
  {
   "cell_type": "code",
   "execution_count": 13,
   "metadata": {},
   "outputs": [],
   "source": [
    "from shapely.geometry import shape, mapping\n",
    "from shapely.ops import unary_union\n",
    "import geojson\n",
    "\n",
    "def merge_provinces(geojson_file, province_names):\n",
    "    with open(geojson_file, 'r') as f:\n",
    "        data = geojson.load(f)\n",
    "\n",
    "    # Filter out the provinces to merge\n",
    "    provinces_to_merge = [feature for feature in data['features'] if feature['properties']['NAME_1'] in province_names]\n",
    "\n",
    "    # Convert the GeoJSON features to shapely geometry objects\n",
    "    shapes = [shape(feature['geometry']) for feature in provinces_to_merge]\n",
    "\n",
    "    # Merge the provinces together\n",
    "    merged = unary_union(shapes)\n",
    "\n",
    "    # Convert the shapely object back to a GeoJSON feature\n",
    "    merged_geojson = geojson.Feature(geometry=mapping(merged), properties={\"NAME_1\": \"Merged Area\"})\n",
    "\n",
    "    return merged_geojson\n",
    "\n",
    "def write_to_geojson(merged_provinces, output_file):\n",
    "    # Create a new GeoJSON FeatureCollection with all merged provinces\n",
    "    feature_collection = geojson.FeatureCollection(merged_provinces)\n",
    "\n",
    "    # Write the FeatureCollection to a new file\n",
    "    with open(output_file, 'w') as f:\n",
    "        geojson.dump(feature_collection, f)\n"
   ]
  },
  {
   "cell_type": "code",
   "execution_count": 14,
   "metadata": {},
   "outputs": [],
   "source": [
    "province_groups = [\n",
    "    (\"MNF-W\", [\"Al-Anbar\"]),\n",
    "    (\"MND-N\", [\"Ninawa\", \"Dihok\", \"Arbil\"]),\n",
    "    (\"MND-C\", [\"Karbala\", \"Wasit\", \"Al-Qadisiyah\", \"Al-Najaf\", \"Babil\"]),\n",
    "    (\"MND-SE\", [\"Al-Basrah\", \"Maysan\", \"Al-Muthannia\", \"Dhi-Qar\"]),\n",
    "    (\"MND-Baghdad\", [\"Baghdad\"]),\n",
    "    (\"MND-NE\", [\"At-Ta'mim\", \"Sala ad-Din\", \"Diyala\", \"As-Sulaymaniyah\"]),\n",
    "]\n",
    "\n",
    "merged_provinces = []\n",
    "\n",
    "for new_name, province_names in province_groups:\n",
    "    merged_province = merge_provinces(\"iraq_provinces.geojson\", province_names)\n",
    "    merged_province[\"properties\"][\"NAME_1\"] = new_name\n",
    "    merged_provinces.append(merged_province)\n",
    "\n",
    "write_to_geojson(merged_provinces, \"merged_provinces.geojson\")\n"
   ]
  }
 ],
 "metadata": {
  "kernelspec": {
   "display_name": "Python 3",
   "language": "python",
   "name": "python3"
  },
  "language_info": {
   "codemirror_mode": {
    "name": "ipython",
    "version": 3
   },
   "file_extension": ".py",
   "mimetype": "text/x-python",
   "name": "python",
   "nbconvert_exporter": "python",
   "pygments_lexer": "ipython3",
   "version": "3.8.10"
  },
  "orig_nbformat": 4,
  "vscode": {
   "interpreter": {
    "hash": "aee8b7b246df8f9039afb4144a1f6fd8d2ca17a180786b69acc140d282b71a49"
   }
  }
 },
 "nbformat": 4,
 "nbformat_minor": 2
}
