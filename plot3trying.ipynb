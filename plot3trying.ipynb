{
 "cells": [
  {
   "cell_type": "code",
   "execution_count": 1,
   "metadata": {},
   "outputs": [
    {
     "name": "stderr",
     "output_type": "stream",
     "text": [
      "/var/folders/1w/6vqfb5jj0nv8pf9fqf_nwwfh0000gn/T/ipykernel_22471/3312621448.py:4: UserWarning: \n",
      "The dash_core_components package is deprecated. Please replace\n",
      "`import dash_core_components as dcc` with `from dash import dcc`\n",
      "  import dash_core_components as dcc\n",
      "/var/folders/1w/6vqfb5jj0nv8pf9fqf_nwwfh0000gn/T/ipykernel_22471/3312621448.py:5: UserWarning: \n",
      "The dash_html_components package is deprecated. Please replace\n",
      "`import dash_html_components as html` with `from dash import html`\n",
      "  import dash_html_components as html\n"
     ]
    }
   ],
   "source": [
    "import pandas as pd\n",
    "import plotly.graph_objs as go\n",
    "import dash\n",
    "import dash_core_components as dcc\n",
    "import dash_html_components as html"
   ]
  },
  {
   "cell_type": "code",
   "execution_count": 2,
   "metadata": {},
   "outputs": [
    {
     "name": "stderr",
     "output_type": "stream",
     "text": [
      "/var/folders/1w/6vqfb5jj0nv8pf9fqf_nwwfh0000gn/T/ipykernel_22471/573086092.py:1: DtypeWarning: Columns (14) have mixed types. Specify dtype option on import or set low_memory=False.\n",
      "  df = pd.read_csv(\"./iraq.csv\")\n"
     ]
    }
   ],
   "source": [
    "df = pd.read_csv(\"./iraq.csv\")\n",
    "\n",
    "df_grouped = df.groupby(['Type', 'Category'])[['Enemy_KIA', 'Friend_KIA', 'Civilian_KIA', 'Host_nation_KIA']].sum().reset_index()\n",
    "\n",
    "df_grouped['Total_KIA'] = df_grouped[['Enemy_KIA', 'Friend_KIA', 'Civilian_KIA', 'Host_nation_KIA']].sum(axis=1)"
   ]
  },
  {
   "cell_type": "code",
   "execution_count": null,
   "metadata": {},
   "outputs": [],
   "source": [
    "df[\"Type/Category\"] = df[\"Type\"] + \"/\" + df[\"Category\"]"
   ]
  },
  {
   "cell_type": "code",
   "execution_count": null,
   "metadata": {},
   "outputs": [],
   "source": [
    "df['Type/Category'] = df['Type/Category'].astype(str)\n"
   ]
  },
  {
   "cell_type": "code",
   "execution_count": 8,
   "metadata": {},
   "outputs": [
    {
     "data": {
      "text/plain": [
       "Region             object\n",
       "Datetime           object\n",
       "Type               object\n",
       "Category           object\n",
       "Affiliation        object\n",
       "Detained            int64\n",
       "Enemy_KIA           int64\n",
       "Friend_KIA          int64\n",
       "Civilian_KIA        int64\n",
       "Host_nation_KIA     int64\n",
       "Enemy_WIA           int64\n",
       "Friend_WIA          int64\n",
       "Civilian_WIA        int64\n",
       "Host_nation_WIA     int64\n",
       "Complex_attack     object\n",
       "Type_of_unit       object\n",
       "MGRS               object\n",
       "dtype: object"
      ]
     },
     "execution_count": 8,
     "metadata": {},
     "output_type": "execute_result"
    }
   ],
   "source": [
    "df.dtypes"
   ]
  },
  {
   "cell_type": "code",
   "execution_count": null,
   "metadata": {},
   "outputs": [],
   "source": [
    "df[\"Type/Category\"].unique()"
   ]
  },
  {
   "cell_type": "code",
   "execution_count": null,
   "metadata": {},
   "outputs": [],
   "source": [
    "df.head()"
   ]
  },
  {
   "cell_type": "code",
   "execution_count": null,
   "metadata": {},
   "outputs": [],
   "source": [
    "df[[\"Category\", \"Type\"]] = df[[\"Category\", \"Type\"]].astype('category')\n"
   ]
  },
  {
   "cell_type": "code",
   "execution_count": 9,
   "metadata": {},
   "outputs": [
    {
     "data": {
      "text/html": [
       "<div>\n",
       "<style scoped>\n",
       "    .dataframe tbody tr th:only-of-type {\n",
       "        vertical-align: middle;\n",
       "    }\n",
       "\n",
       "    .dataframe tbody tr th {\n",
       "        vertical-align: top;\n",
       "    }\n",
       "\n",
       "    .dataframe thead th {\n",
       "        text-align: right;\n",
       "    }\n",
       "</style>\n",
       "<table border=\"1\" class=\"dataframe\">\n",
       "  <thead>\n",
       "    <tr style=\"text-align: right;\">\n",
       "      <th></th>\n",
       "      <th>Category</th>\n",
       "      <th>Type</th>\n",
       "      <th>Enemy_KIA</th>\n",
       "      <th>Friend_KIA</th>\n",
       "      <th>Civilian_KIA</th>\n",
       "      <th>Host_nation_KIA</th>\n",
       "      <th>Enemy_WIA</th>\n",
       "      <th>Friend_WIA</th>\n",
       "      <th>Civilian_WIA</th>\n",
       "      <th>Host_nation_WIA</th>\n",
       "    </tr>\n",
       "  </thead>\n",
       "  <tbody>\n",
       "    <tr>\n",
       "      <th>0</th>\n",
       "      <td>IED Explosion</td>\n",
       "      <td>Explosive Hazard</td>\n",
       "      <td>0</td>\n",
       "      <td>0</td>\n",
       "      <td>0</td>\n",
       "      <td>0</td>\n",
       "      <td>0</td>\n",
       "      <td>0</td>\n",
       "      <td>0</td>\n",
       "      <td>0</td>\n",
       "    </tr>\n",
       "    <tr>\n",
       "      <th>1</th>\n",
       "      <td>Confiscation</td>\n",
       "      <td>Friendly Action</td>\n",
       "      <td>0</td>\n",
       "      <td>0</td>\n",
       "      <td>0</td>\n",
       "      <td>0</td>\n",
       "      <td>0</td>\n",
       "      <td>0</td>\n",
       "      <td>0</td>\n",
       "      <td>0</td>\n",
       "    </tr>\n",
       "    <tr>\n",
       "      <th>2</th>\n",
       "      <td>Indirect Fire</td>\n",
       "      <td>Enemy Action</td>\n",
       "      <td>0</td>\n",
       "      <td>0</td>\n",
       "      <td>0</td>\n",
       "      <td>0</td>\n",
       "      <td>0</td>\n",
       "      <td>0</td>\n",
       "      <td>0</td>\n",
       "      <td>0</td>\n",
       "    </tr>\n",
       "    <tr>\n",
       "      <th>3</th>\n",
       "      <td>Murder</td>\n",
       "      <td>Criminal Event</td>\n",
       "      <td>0</td>\n",
       "      <td>0</td>\n",
       "      <td>1</td>\n",
       "      <td>0</td>\n",
       "      <td>0</td>\n",
       "      <td>0</td>\n",
       "      <td>0</td>\n",
       "      <td>0</td>\n",
       "    </tr>\n",
       "    <tr>\n",
       "      <th>4</th>\n",
       "      <td>IED Found/Cleared</td>\n",
       "      <td>Explosive Hazard</td>\n",
       "      <td>0</td>\n",
       "      <td>0</td>\n",
       "      <td>0</td>\n",
       "      <td>0</td>\n",
       "      <td>0</td>\n",
       "      <td>0</td>\n",
       "      <td>0</td>\n",
       "      <td>0</td>\n",
       "    </tr>\n",
       "  </tbody>\n",
       "</table>\n",
       "</div>"
      ],
      "text/plain": [
       "            Category              Type  Enemy_KIA  Friend_KIA  Civilian_KIA   \n",
       "0      IED Explosion  Explosive Hazard          0           0             0  \\\n",
       "1       Confiscation   Friendly Action          0           0             0   \n",
       "2      Indirect Fire      Enemy Action          0           0             0   \n",
       "3             Murder    Criminal Event          0           0             1   \n",
       "4  IED Found/Cleared  Explosive Hazard          0           0             0   \n",
       "\n",
       "   Host_nation_KIA  Enemy_WIA  Friend_WIA  Civilian_WIA  Host_nation_WIA  \n",
       "0                0          0           0             0                0  \n",
       "1                0          0           0             0                0  \n",
       "2                0          0           0             0                0  \n",
       "3                0          0           0             0                0  \n",
       "4                0          0           0             0                0  "
      ]
     },
     "execution_count": 9,
     "metadata": {},
     "output_type": "execute_result"
    }
   ],
   "source": [
    "df[[\"Category\", \"Type\", 'Enemy_KIA', 'Friend_KIA', 'Civilian_KIA', 'Host_nation_KIA', \"Enemy_WIA\", \"Friend_WIA\", \"Civilian_WIA\", \"Host_nation_WIA\"]].head(5)"
   ]
  },
  {
   "cell_type": "code",
   "execution_count": null,
   "metadata": {},
   "outputs": [],
   "source": [
    "df[\"Type\"].unique()"
   ]
  },
  {
   "cell_type": "code",
   "execution_count": 7,
   "metadata": {},
   "outputs": [
    {
     "data": {
      "application/vnd.plotly.v1+json": {
       "config": {
        "plotlyServerURL": "https://plot.ly"
       },
       "data": [
        {
         "branchvalues": "total",
         "customdata": [
          [
           5
          ],
          [
           1
          ],
          [
           73
          ],
          [
           5961
          ],
          [
           231
          ],
          [
           127
          ],
          [
           92
          ],
          [
           6231
          ],
          [
           254
          ],
          [
           322
          ],
          [
           126
          ],
          [
           7802
          ],
          [
           2774
          ],
          [
           1629
          ],
          [
           1
          ],
          [
           364
          ],
          [
           141
          ],
          [
           92
          ],
          [
           159
          ],
          [
           8
          ],
          [
           4
          ],
          [
           1
          ],
          [
           1
          ],
          [
           1
          ],
          [
           1
          ],
          [
           24760
          ],
          [
           275
          ],
          [
           5
          ],
          [
           677
          ],
          [
           2894
          ],
          [
           13
          ],
          [
           7927
          ],
          [
           129
          ],
          [
           15
          ],
          [
           2
          ],
          [
           1
          ],
          [
           216
          ],
          [
           2200
          ],
          [
           20279
          ],
          [
           4
          ],
          [
           57649
          ],
          [
           10
          ],
          [
           1
          ],
          [
           55
          ],
          [
           2
          ],
          [
           1
          ],
          [
           2
          ],
          [
           2
          ],
          [
           1
          ],
          [
           7
          ],
          [
           991
          ],
          [
           12560
          ],
          [
           1
          ],
          [
           306
          ],
          [
           5
          ],
          [
           1
          ],
          [
           2512
          ],
          [
           32
          ],
          [
           6
          ],
          [
           2
          ],
          [
           225
          ],
          [
           307
          ],
          [
           133
          ],
          [
           9
          ],
          [
           2
          ],
          [
           65229
          ],
          [
           6
          ],
          [
           1
          ],
          [
           1248
          ],
          [
           44539
          ],
          [
           1
          ],
          [
           1962
          ],
          [
           108
          ],
          [
           1037
          ],
          [
           1697
          ],
          [
           1
          ],
          [
           33577
          ],
          [
           17
          ],
          [
           452
          ],
          [
           5
          ],
          [
           8
          ],
          [
           2
          ],
          [
           63
          ],
          [
           420
          ],
          [
           4169
          ],
          [
           146
          ],
          [
           5
          ],
          [
           4
          ],
          [
           197
          ],
          [
           110
          ],
          [
           2
          ],
          [
           1
          ],
          [
           42
          ],
          [
           3
          ],
          [
           218
          ],
          [
           146
          ],
          [
           1208
          ],
          [
           667
          ],
          [
           43
          ],
          [
           5
          ],
          [
           24711
          ],
          [
           130
          ],
          [
           8
          ],
          [
           4
          ],
          [
           1
          ],
          [
           264
          ],
          [
           333
          ],
          [
           1982
          ],
          [
           2330
          ],
          [
           1949
          ],
          [
           1210
          ],
          [
           330
          ],
          [
           2351
          ],
          [
           435
          ],
          [
           10
          ],
          [
           1
          ],
          [
           1863
          ],
          [
           262
          ],
          [
           104
          ],
          [
           1
          ],
          [
           8668
          ],
          [
           3
          ],
          [
           155
          ],
          [
           1
          ],
          [
           36
          ],
          [
           324
          ],
          [
           2772
          ],
          [
           29
          ],
          [
           5
          ],
          [
           80
          ],
          [
           18
          ],
          [
           133
          ],
          [
           8
          ],
          [
           83
          ],
          [
           1
          ],
          [
           4575
          ],
          [
           170
          ],
          [
           165
          ],
          [
           1620
          ],
          [
           388
          ],
          [
           39
          ],
          [
           1
          ],
          [
           53
          ],
          [
           70
          ],
          [
           28
          ],
          [
           184
          ],
          [
           135
          ],
          [
           797
          ],
          [
           87
          ],
          [
           4
          ],
          [
           901
          ],
          [
           12
          ],
          [
           292
          ],
          [
           164
          ],
          [
           2
          ],
          [
           8667
          ],
          [
           4
          ],
          [
           3387
          ],
          [
           56
          ],
          [
           277
          ],
          [
           26
          ],
          [
           10
          ],
          [
           27
          ],
          [
           2
          ],
          [
           1
          ],
          [
           7
          ],
          [
           9
          ],
          [
           2
          ],
          [
           2
          ],
          [
           2
          ],
          [
           1
          ],
          [
           1
          ],
          [
           1
          ],
          [
           1
          ],
          [
           1
          ],
          [
           7
          ],
          [
           3
          ],
          [
           20261.85925019325
          ],
          [
           4.4
          ],
          [
           43488.5688608934
          ],
          [
           49306.72321609292
          ],
          [
           2.9
          ],
          [
           2
          ],
          [
           13588.227620992875
          ],
          [
           245.21433962264152
          ],
          [
           1
          ],
          [
           3861.6730880052687
          ],
          [
           4
          ],
          [
           5
          ],
          [
           1563.692033293698
          ],
          [
           1008.2860040567952
          ],
          [
           1125.3480977761442
          ],
          [
           1
          ]
         ],
         "domain": {
          "x": [
           0,
           1
          ],
          "y": [
           0,
           1
          ]
         },
         "hovertemplate": "labels=%{label}<br>Counts_sum=%{value}<br>parent=%{parent}<br>id=%{id}<br>Counts=%{color}<extra></extra>",
         "ids": [
          "FRIENDLY ACTION/ARREST",
          "Friendly Action/ARREST",
          "Friendly Action/ARTY",
          "Non-Combat Event/Accident",
          "Enemy Action/Ambush",
          "Friendly Action/Ambush",
          "Threat Report/Ambush Threat",
          "Friendly Action/Arrest",
          "Criminal Event/Arson",
          "Enemy Action/Assassination",
          "Threat Report/Assassination Threat",
          "Enemy Action/Attack",
          "Friendly Action/Attack",
          "Threat Report/Attack Threat",
          "Threat Report/Attack threat",
          "Friendly Fire/Blue-Blue",
          "Friendly Fire/Blue-Green",
          "Friendly Fire/Blue-White",
          "Friendly Action/Border Ops",
          "Friendly Action/Breaching",
          "FRIENDLY ACTION/CACHE FOUND/CLEARED",
          "Friendly Action/CACHE FOUND/CLEARED",
          "FRIENDLY ACTION/CONFISCATION",
          "FRIENDLY ACTION/CORDON/SEARCH",
          "Friendly Action/COnfiscation",
          "Friendly Action/Cache Found/Cleared",
          "Criminal Event/Carjacking",
          "Threat Report/Carjacking Threat",
          "Friendly Action/Close Air Support",
          "Friendly Action/Confiscation",
          "Friendly Action/Convoy",
          "Friendly Action/Cordon/Search",
          "Friendly Action/Counter Mortar Fire",
          "Friendly Action/Counter Mortar Patrol",
          "FRIENDLY ACTION/DETAIN",
          "Friendly Action/DETAIN",
          "Friendly Action/Deliberate Attack",
          "Non-Combat Event/Demonstration",
          "Friendly Action/Detain",
          "Friendly Action/Detention",
          "Enemy Action/Direct Fire",
          "Friendly Action/Direct Fire",
          "Threat Report/Direct Fire",
          "Threat Report/Direct Fire Threat",
          "Enemy Action/Direct fire",
          "NON-COMBAT EVENT/EQUIPMENT FAILURE",
          "FRIENDLY ACTION/ESCALATION OF FORCE",
          "FRIENDLY ACTION/EXPLOSIVE REMNANTS OF WAR (ERW) FOUND/CLEARED",
          "FRIENDLY ACTION/EXPLOSIVE REMNANTS OF WAR (ERW)/TURN IN",
          "Suspicious Incident/Elicitation",
          "Non-Combat Event/Equipment Failure",
          "Friendly Action/Escalation of Force",
          "Explosive Hazard/Explosive Remnants of War (ERW) Found/Cleared",
          "Friendly Action/Explosive Remnants of War (ERW) Found/Cleared",
          "Explosive Hazard/Explosive Remnants of War (ERW)/Turn In",
          "FRIENDLY ACTION/Explosive Remnants of War (ERW)/Turn In",
          "Friendly Action/Explosive Remnants of War (ERW)/Turn In",
          "Friendly Action/Explosive Remnants of War (ERW)/Turn in",
          "Criminal Event/Extortion",
          "FRIENDLY FIRE/GREEN-WHITE",
          "Friendly Fire/Green-Blue",
          "Friendly Fire/Green-Green",
          "Friendly Fire/Green-White",
          "Criminal Event/Hijacking",
          "EXPLOSIVE HAZARD/IED EXPLOSION",
          "Explosive Hazard/IED Explosion",
          "EXPLOSIVE HAZARD/IED FOUND/CLEARED",
          "Explosive Hazard/IED FOUND/CLEARED",
          "Explosive Hazard/IED False",
          "Explosive Hazard/IED Found/Cleared",
          "Explosive Hazard/IED Found/cleared",
          "Explosive Hazard/IED Hoax",
          "Explosive Hazard/IED Pre-detonation",
          "Explosive Hazard/IED Suspected",
          "Threat Report/IED Threat",
          "Explosive Hazard/IED suspected",
          "Enemy Action/Indirect Fire",
          "Threat Report/Indirect Fire",
          "Threat Report/Indirect Fire Threat",
          "Threat Report/Indirect Fire threat",
          "Enemy Action/Indirect fire",
          "Threat Report/Indirect fire",
          "Threat Report/Intimidation",
          "Threat Report/Intimidation Threat",
          "Criminal Event/Kidnapping",
          "Threat Report/Kidnapping Threat",
          "OTHER/LASING",
          "Friendly Action/Lasing",
          "Other/Lasing",
          "Criminal Event/Looting",
          "Threat Report/Looting Threat",
          "FRIENDLY ACTION/MEDEVAC",
          "Friendly Action/MEDEVAC",
          "CRIMINAL EVENT/MURDER",
          "Friendly Action/Medevac",
          "Non-Combat Event/Meeting",
          "Explosive Hazard/Mine Found/Cleared",
          "Explosive Hazard/Mine Strike",
          "Friendly Action/Movement to Contact",
          "Criminal Event/Mugging",
          "Criminal Event/Murder",
          "Threat Report/Murder Threat",
          "Non-Combat Event/Natural Disaster",
          "None Selected/None Selected",
          "NON-COMBAT EVENT/OTHER",
          "Criminal Event/Other",
          "Explosive Hazard/Other",
          "Friendly Action/Other",
          "Non-Combat Event/Other",
          "Other/Other",
          "Suspicious Incident/Other",
          "Threat Report/Other",
          "Friendly Action/Other Defensive",
          "Friendly Action/Other Offensive",
          "Friendly Action/Other offensive",
          "Enemy Action/Patrol",
          "Friendly Action/Patrol",
          "Friendly Action/Police Actions",
          "Non-Combat Event/Propaganda",
          "Enemy Action/Raid",
          "Friendly Action/Raid",
          "Threat Report/Raid Threat",
          "Friendly Action/Recon",
          "Threat Report/Recon Threat",
          "Suspicious Incident/Repetitive Activities",
          "Other/Rock Throwing",
          "Enemy Action/SAFIRE",
          "Threat Report/SAFIRE Threat",
          "Non-Combat Event/SUPPORTING CF",
          "Criminal Event/Sabotage",
          "Threat Report/Sabotage Threat",
          "Friendly Action/Search and Attack",
          "Non-Combat Event/Sermon",
          "Criminal Event/Shooting",
          "Threat Report/Small Arms Threat",
          "Friendly Action/Small Unit Actions",
          "Criminal Event/Smuggling",
          "Threat Report/Smuggling Threat",
          "Enemy Action/Sniper Ops",
          "Friendly Action/Sniper Ops",
          "Threat Report/Sniper Ops Threat",
          "Friendly Action/Sniper ops",
          "Other/Staff Estimate",
          "Non-Combat Event/Supporting AIF",
          "Non-Combat Event/Supporting CF",
          "Friendly Action/Surveillance",
          "Suspicious Incident/Surveillance",
          "Friendly Action/TCP",
          "Suspicious Incident/Tests of Security",
          "Suspicious Incident/Tests of security",
          "Criminal Event/Theft",
          "Threat Report/Theft Threat",
          "Non-Combat Event/Tribal Feud",
          "Friendly Action/UAV",
          "EXPLOSIVE HAZARD/UNEXPLODED ORDNANCE",
          "Explosive Hazard/Unexploded Ordnance",
          "Explosive Hazard/Unexploded ordnance",
          "Explosive Hazard/Unknown Explosion",
          "Explosive Hazard/Unknown explosion",
          "Friendly Action/Vehicle Interdiction",
          "Friendly Fire/White-Blue",
          "Friendly Fire/White-Green",
          "Friendly Fire/White-White",
          "Non-Combat Event/accident",
          "Friendly Action/arrest",
          "Friendly Action/confiscation",
          "Friendly Action/detain",
          "Friendly Action/escalation of force",
          "Criminal Event/kidnapping",
          "Non-Combat Event/meeting",
          "Criminal Event/murder",
          "criminal event/murder",
          "Criminal Event/other",
          "Friendly Action/other Defensive",
          "Friendly Action/raid",
          "Criminal Event/smuggling",
          "CRIMINAL EVENT",
          "Criminal Event",
          "EXPLOSIVE HAZARD",
          "Enemy Action",
          "Explosive Hazard",
          "FRIENDLY ACTION",
          "FRIENDLY FIRE",
          "Friendly Action",
          "Friendly Fire",
          "NON-COMBAT EVENT",
          "Non-Combat Event",
          "None Selected",
          "OTHER",
          "Other",
          "Suspicious Incident",
          "Threat Report",
          "criminal event"
         ],
         "labels": [
          "ARREST",
          "ARREST",
          "ARTY",
          "Accident",
          "Ambush",
          "Ambush",
          "Ambush Threat",
          "Arrest",
          "Arson",
          "Assassination",
          "Assassination Threat",
          "Attack",
          "Attack",
          "Attack Threat",
          "Attack threat",
          "Blue-Blue",
          "Blue-Green",
          "Blue-White",
          "Border Ops",
          "Breaching",
          "CACHE FOUND/CLEARED",
          "CACHE FOUND/CLEARED",
          "CONFISCATION",
          "CORDON/SEARCH",
          "COnfiscation",
          "Cache Found/Cleared",
          "Carjacking",
          "Carjacking Threat",
          "Close Air Support",
          "Confiscation",
          "Convoy",
          "Cordon/Search",
          "Counter Mortar Fire",
          "Counter Mortar Patrol",
          "DETAIN",
          "DETAIN",
          "Deliberate Attack",
          "Demonstration",
          "Detain",
          "Detention",
          "Direct Fire",
          "Direct Fire",
          "Direct Fire",
          "Direct Fire Threat",
          "Direct fire",
          "EQUIPMENT FAILURE",
          "ESCALATION OF FORCE",
          "EXPLOSIVE REMNANTS OF WAR (ERW) FOUND/CLEARED",
          "EXPLOSIVE REMNANTS OF WAR (ERW)/TURN IN",
          "Elicitation",
          "Equipment Failure",
          "Escalation of Force",
          "Explosive Remnants of War (ERW) Found/Cleared",
          "Explosive Remnants of War (ERW) Found/Cleared",
          "Explosive Remnants of War (ERW)/Turn In",
          "Explosive Remnants of War (ERW)/Turn In",
          "Explosive Remnants of War (ERW)/Turn In",
          "Explosive Remnants of War (ERW)/Turn in",
          "Extortion",
          "GREEN-WHITE",
          "Green-Blue",
          "Green-Green",
          "Green-White",
          "Hijacking",
          "IED EXPLOSION",
          "IED Explosion",
          "IED FOUND/CLEARED",
          "IED FOUND/CLEARED",
          "IED False",
          "IED Found/Cleared",
          "IED Found/cleared",
          "IED Hoax",
          "IED Pre-detonation",
          "IED Suspected",
          "IED Threat",
          "IED suspected",
          "Indirect Fire",
          "Indirect Fire",
          "Indirect Fire Threat",
          "Indirect Fire threat",
          "Indirect fire",
          "Indirect fire",
          "Intimidation",
          "Intimidation Threat",
          "Kidnapping",
          "Kidnapping Threat",
          "LASING",
          "Lasing",
          "Lasing",
          "Looting",
          "Looting Threat",
          "MEDEVAC",
          "MEDEVAC",
          "MURDER",
          "Medevac",
          "Meeting",
          "Mine Found/Cleared",
          "Mine Strike",
          "Movement to Contact",
          "Mugging",
          "Murder",
          "Murder Threat",
          "Natural Disaster",
          "None Selected",
          "OTHER",
          "Other",
          "Other",
          "Other",
          "Other",
          "Other",
          "Other",
          "Other",
          "Other Defensive",
          "Other Offensive",
          "Other offensive",
          "Patrol",
          "Patrol",
          "Police Actions",
          "Propaganda",
          "Raid",
          "Raid",
          "Raid Threat",
          "Recon",
          "Recon Threat",
          "Repetitive Activities",
          "Rock Throwing",
          "SAFIRE",
          "SAFIRE Threat",
          "SUPPORTING CF",
          "Sabotage",
          "Sabotage Threat",
          "Search and Attack",
          "Sermon",
          "Shooting",
          "Small Arms Threat",
          "Small Unit Actions",
          "Smuggling",
          "Smuggling Threat",
          "Sniper Ops",
          "Sniper Ops",
          "Sniper Ops Threat",
          "Sniper ops",
          "Staff Estimate",
          "Supporting AIF",
          "Supporting CF",
          "Surveillance",
          "Surveillance",
          "TCP",
          "Tests of Security",
          "Tests of security",
          "Theft",
          "Theft Threat",
          "Tribal Feud",
          "UAV",
          "UNEXPLODED ORDNANCE",
          "Unexploded Ordnance",
          "Unexploded ordnance",
          "Unknown Explosion",
          "Unknown explosion",
          "Vehicle Interdiction",
          "White-Blue",
          "White-Green",
          "White-White",
          "accident",
          "arrest",
          "confiscation",
          "detain",
          "escalation of force",
          "kidnapping",
          "meeting",
          "murder",
          "murder",
          "other",
          "other Defensive",
          "raid",
          "smuggling",
          "CRIMINAL EVENT",
          "Criminal Event",
          "EXPLOSIVE HAZARD",
          "Enemy Action",
          "Explosive Hazard",
          "FRIENDLY ACTION",
          "FRIENDLY FIRE",
          "Friendly Action",
          "Friendly Fire",
          "NON-COMBAT EVENT",
          "Non-Combat Event",
          "None Selected",
          "OTHER",
          "Other",
          "Suspicious Incident",
          "Threat Report",
          "criminal event"
         ],
         "marker": {
          "coloraxis": "coloraxis",
          "colors": [
           5,
           1,
           73,
           5961,
           231,
           127,
           92,
           6231,
           254,
           322,
           126,
           7802,
           2774,
           1629,
           1,
           364,
           141,
           92,
           159,
           8,
           4,
           1,
           1,
           1,
           1,
           24760,
           275,
           5,
           677,
           2894,
           13,
           7927,
           129,
           15,
           2,
           1,
           216,
           2200,
           20279,
           4,
           57649,
           10,
           1,
           55,
           2,
           1,
           2,
           2,
           1,
           7,
           991,
           12560,
           1,
           306,
           5,
           1,
           2512,
           32,
           6,
           2,
           225,
           307,
           133,
           9,
           2,
           65229,
           6,
           1,
           1248,
           44539,
           1,
           1962,
           108,
           1037,
           1697,
           1,
           33577,
           17,
           452,
           5,
           8,
           2,
           63,
           420,
           4169,
           146,
           5,
           4,
           197,
           110,
           2,
           1,
           42,
           3,
           218,
           146,
           1208,
           667,
           43,
           5,
           24711,
           130,
           8,
           4,
           1,
           264,
           333,
           1982,
           2330,
           1949,
           1210,
           330,
           2351,
           435,
           10,
           1,
           1863,
           262,
           104,
           1,
           8668,
           3,
           155,
           1,
           36,
           324,
           2772,
           29,
           5,
           80,
           18,
           133,
           8,
           83,
           1,
           4575,
           170,
           165,
           1620,
           388,
           39,
           1,
           53,
           70,
           28,
           184,
           135,
           797,
           87,
           4,
           901,
           12,
           292,
           164,
           2,
           8667,
           4,
           3387,
           56,
           277,
           26,
           10,
           27,
           2,
           1,
           7,
           9,
           2,
           2,
           2,
           1,
           1,
           1,
           1,
           1,
           7,
           3,
           20261.85925019325,
           4.4,
           43488.5688608934,
           49306.72321609292,
           2.9,
           2,
           13588.227620992875,
           245.21433962264152,
           1,
           3861.6730880052687,
           4,
           5,
           1563.692033293698,
           1008.2860040567952,
           1125.3480977761442,
           1
          ]
         },
         "name": "",
         "parents": [
          "FRIENDLY ACTION",
          "Friendly Action",
          "Friendly Action",
          "Non-Combat Event",
          "Enemy Action",
          "Friendly Action",
          "Threat Report",
          "Friendly Action",
          "Criminal Event",
          "Enemy Action",
          "Threat Report",
          "Enemy Action",
          "Friendly Action",
          "Threat Report",
          "Threat Report",
          "Friendly Fire",
          "Friendly Fire",
          "Friendly Fire",
          "Friendly Action",
          "Friendly Action",
          "FRIENDLY ACTION",
          "Friendly Action",
          "FRIENDLY ACTION",
          "FRIENDLY ACTION",
          "Friendly Action",
          "Friendly Action",
          "Criminal Event",
          "Threat Report",
          "Friendly Action",
          "Friendly Action",
          "Friendly Action",
          "Friendly Action",
          "Friendly Action",
          "Friendly Action",
          "FRIENDLY ACTION",
          "Friendly Action",
          "Friendly Action",
          "Non-Combat Event",
          "Friendly Action",
          "Friendly Action",
          "Enemy Action",
          "Friendly Action",
          "Threat Report",
          "Threat Report",
          "Enemy Action",
          "NON-COMBAT EVENT",
          "FRIENDLY ACTION",
          "FRIENDLY ACTION",
          "FRIENDLY ACTION",
          "Suspicious Incident",
          "Non-Combat Event",
          "Friendly Action",
          "Explosive Hazard",
          "Friendly Action",
          "Explosive Hazard",
          "FRIENDLY ACTION",
          "Friendly Action",
          "Friendly Action",
          "Criminal Event",
          "FRIENDLY FIRE",
          "Friendly Fire",
          "Friendly Fire",
          "Friendly Fire",
          "Criminal Event",
          "EXPLOSIVE HAZARD",
          "Explosive Hazard",
          "EXPLOSIVE HAZARD",
          "Explosive Hazard",
          "Explosive Hazard",
          "Explosive Hazard",
          "Explosive Hazard",
          "Explosive Hazard",
          "Explosive Hazard",
          "Explosive Hazard",
          "Threat Report",
          "Explosive Hazard",
          "Enemy Action",
          "Threat Report",
          "Threat Report",
          "Threat Report",
          "Enemy Action",
          "Threat Report",
          "Threat Report",
          "Threat Report",
          "Criminal Event",
          "Threat Report",
          "OTHER",
          "Friendly Action",
          "Other",
          "Criminal Event",
          "Threat Report",
          "FRIENDLY ACTION",
          "Friendly Action",
          "CRIMINAL EVENT",
          "Friendly Action",
          "Non-Combat Event",
          "Explosive Hazard",
          "Explosive Hazard",
          "Friendly Action",
          "Criminal Event",
          "Criminal Event",
          "Threat Report",
          "Non-Combat Event",
          "None Selected",
          "NON-COMBAT EVENT",
          "Criminal Event",
          "Explosive Hazard",
          "Friendly Action",
          "Non-Combat Event",
          "Other",
          "Suspicious Incident",
          "Threat Report",
          "Friendly Action",
          "Friendly Action",
          "Friendly Action",
          "Enemy Action",
          "Friendly Action",
          "Friendly Action",
          "Non-Combat Event",
          "Enemy Action",
          "Friendly Action",
          "Threat Report",
          "Friendly Action",
          "Threat Report",
          "Suspicious Incident",
          "Other",
          "Enemy Action",
          "Threat Report",
          "Non-Combat Event",
          "Criminal Event",
          "Threat Report",
          "Friendly Action",
          "Non-Combat Event",
          "Criminal Event",
          "Threat Report",
          "Friendly Action",
          "Criminal Event",
          "Threat Report",
          "Enemy Action",
          "Friendly Action",
          "Threat Report",
          "Friendly Action",
          "Other",
          "Non-Combat Event",
          "Non-Combat Event",
          "Friendly Action",
          "Suspicious Incident",
          "Friendly Action",
          "Suspicious Incident",
          "Suspicious Incident",
          "Criminal Event",
          "Threat Report",
          "Non-Combat Event",
          "Friendly Action",
          "EXPLOSIVE HAZARD",
          "Explosive Hazard",
          "Explosive Hazard",
          "Explosive Hazard",
          "Explosive Hazard",
          "Friendly Action",
          "Friendly Fire",
          "Friendly Fire",
          "Friendly Fire",
          "Non-Combat Event",
          "Friendly Action",
          "Friendly Action",
          "Friendly Action",
          "Friendly Action",
          "Criminal Event",
          "Non-Combat Event",
          "Criminal Event",
          "criminal event",
          "Criminal Event",
          "Friendly Action",
          "Friendly Action",
          "Criminal Event",
          "",
          "",
          "",
          "",
          "",
          "",
          "",
          "",
          "",
          "",
          "",
          "",
          "",
          "",
          "",
          "",
          ""
         ],
         "type": "treemap",
         "values": [
          5,
          1,
          73,
          5961,
          231,
          127,
          92,
          6231,
          254,
          322,
          126,
          7802,
          2774,
          1629,
          1,
          364,
          141,
          92,
          159,
          8,
          4,
          1,
          1,
          1,
          1,
          24760,
          275,
          5,
          677,
          2894,
          13,
          7927,
          129,
          15,
          2,
          1,
          216,
          2200,
          20279,
          4,
          57649,
          10,
          1,
          55,
          2,
          1,
          2,
          2,
          1,
          7,
          991,
          12560,
          1,
          306,
          5,
          1,
          2512,
          32,
          6,
          2,
          225,
          307,
          133,
          9,
          2,
          65229,
          6,
          1,
          1248,
          44539,
          1,
          1962,
          108,
          1037,
          1697,
          1,
          33577,
          17,
          452,
          5,
          8,
          2,
          63,
          420,
          4169,
          146,
          5,
          4,
          197,
          110,
          2,
          1,
          42,
          3,
          218,
          146,
          1208,
          667,
          43,
          5,
          24711,
          130,
          8,
          4,
          1,
          264,
          333,
          1982,
          2330,
          1949,
          1210,
          330,
          2351,
          435,
          10,
          1,
          1863,
          262,
          104,
          1,
          8668,
          3,
          155,
          1,
          36,
          324,
          2772,
          29,
          5,
          80,
          18,
          133,
          8,
          83,
          1,
          4575,
          170,
          165,
          1620,
          388,
          39,
          1,
          53,
          70,
          28,
          184,
          135,
          797,
          87,
          4,
          901,
          12,
          292,
          164,
          2,
          8667,
          4,
          3387,
          56,
          277,
          26,
          10,
          27,
          2,
          1,
          7,
          9,
          2,
          2,
          2,
          1,
          1,
          1,
          1,
          1,
          7,
          3,
          31048,
          10,
          103985,
          128454,
          20,
          2,
          104283,
          1325,
          2,
          12147,
          4,
          5,
          2523,
          1479,
          5441,
          1
         ]
        }
       ],
       "layout": {
        "coloraxis": {
         "colorbar": {
          "title": {
           "text": "Counts"
          }
         },
         "colorscale": [
          [
           0,
           "rgb(255,255,204)"
          ],
          [
           0.125,
           "rgb(255,237,160)"
          ],
          [
           0.25,
           "rgb(254,217,118)"
          ],
          [
           0.375,
           "rgb(254,178,76)"
          ],
          [
           0.5,
           "rgb(253,141,60)"
          ],
          [
           0.625,
           "rgb(252,78,42)"
          ],
          [
           0.75,
           "rgb(227,26,28)"
          ],
          [
           0.875,
           "rgb(189,0,38)"
          ],
          [
           1,
           "rgb(128,0,38)"
          ]
         ]
        },
        "legend": {
         "tracegroupgap": 0
        },
        "template": {
         "data": {
          "bar": [
           {
            "error_x": {
             "color": "#2a3f5f"
            },
            "error_y": {
             "color": "#2a3f5f"
            },
            "marker": {
             "line": {
              "color": "#E5ECF6",
              "width": 0.5
             },
             "pattern": {
              "fillmode": "overlay",
              "size": 10,
              "solidity": 0.2
             }
            },
            "type": "bar"
           }
          ],
          "barpolar": [
           {
            "marker": {
             "line": {
              "color": "#E5ECF6",
              "width": 0.5
             },
             "pattern": {
              "fillmode": "overlay",
              "size": 10,
              "solidity": 0.2
             }
            },
            "type": "barpolar"
           }
          ],
          "carpet": [
           {
            "aaxis": {
             "endlinecolor": "#2a3f5f",
             "gridcolor": "white",
             "linecolor": "white",
             "minorgridcolor": "white",
             "startlinecolor": "#2a3f5f"
            },
            "baxis": {
             "endlinecolor": "#2a3f5f",
             "gridcolor": "white",
             "linecolor": "white",
             "minorgridcolor": "white",
             "startlinecolor": "#2a3f5f"
            },
            "type": "carpet"
           }
          ],
          "choropleth": [
           {
            "colorbar": {
             "outlinewidth": 0,
             "ticks": ""
            },
            "type": "choropleth"
           }
          ],
          "contour": [
           {
            "colorbar": {
             "outlinewidth": 0,
             "ticks": ""
            },
            "colorscale": [
             [
              0,
              "#0d0887"
             ],
             [
              0.1111111111111111,
              "#46039f"
             ],
             [
              0.2222222222222222,
              "#7201a8"
             ],
             [
              0.3333333333333333,
              "#9c179e"
             ],
             [
              0.4444444444444444,
              "#bd3786"
             ],
             [
              0.5555555555555556,
              "#d8576b"
             ],
             [
              0.6666666666666666,
              "#ed7953"
             ],
             [
              0.7777777777777778,
              "#fb9f3a"
             ],
             [
              0.8888888888888888,
              "#fdca26"
             ],
             [
              1,
              "#f0f921"
             ]
            ],
            "type": "contour"
           }
          ],
          "contourcarpet": [
           {
            "colorbar": {
             "outlinewidth": 0,
             "ticks": ""
            },
            "type": "contourcarpet"
           }
          ],
          "heatmap": [
           {
            "colorbar": {
             "outlinewidth": 0,
             "ticks": ""
            },
            "colorscale": [
             [
              0,
              "#0d0887"
             ],
             [
              0.1111111111111111,
              "#46039f"
             ],
             [
              0.2222222222222222,
              "#7201a8"
             ],
             [
              0.3333333333333333,
              "#9c179e"
             ],
             [
              0.4444444444444444,
              "#bd3786"
             ],
             [
              0.5555555555555556,
              "#d8576b"
             ],
             [
              0.6666666666666666,
              "#ed7953"
             ],
             [
              0.7777777777777778,
              "#fb9f3a"
             ],
             [
              0.8888888888888888,
              "#fdca26"
             ],
             [
              1,
              "#f0f921"
             ]
            ],
            "type": "heatmap"
           }
          ],
          "heatmapgl": [
           {
            "colorbar": {
             "outlinewidth": 0,
             "ticks": ""
            },
            "colorscale": [
             [
              0,
              "#0d0887"
             ],
             [
              0.1111111111111111,
              "#46039f"
             ],
             [
              0.2222222222222222,
              "#7201a8"
             ],
             [
              0.3333333333333333,
              "#9c179e"
             ],
             [
              0.4444444444444444,
              "#bd3786"
             ],
             [
              0.5555555555555556,
              "#d8576b"
             ],
             [
              0.6666666666666666,
              "#ed7953"
             ],
             [
              0.7777777777777778,
              "#fb9f3a"
             ],
             [
              0.8888888888888888,
              "#fdca26"
             ],
             [
              1,
              "#f0f921"
             ]
            ],
            "type": "heatmapgl"
           }
          ],
          "histogram": [
           {
            "marker": {
             "pattern": {
              "fillmode": "overlay",
              "size": 10,
              "solidity": 0.2
             }
            },
            "type": "histogram"
           }
          ],
          "histogram2d": [
           {
            "colorbar": {
             "outlinewidth": 0,
             "ticks": ""
            },
            "colorscale": [
             [
              0,
              "#0d0887"
             ],
             [
              0.1111111111111111,
              "#46039f"
             ],
             [
              0.2222222222222222,
              "#7201a8"
             ],
             [
              0.3333333333333333,
              "#9c179e"
             ],
             [
              0.4444444444444444,
              "#bd3786"
             ],
             [
              0.5555555555555556,
              "#d8576b"
             ],
             [
              0.6666666666666666,
              "#ed7953"
             ],
             [
              0.7777777777777778,
              "#fb9f3a"
             ],
             [
              0.8888888888888888,
              "#fdca26"
             ],
             [
              1,
              "#f0f921"
             ]
            ],
            "type": "histogram2d"
           }
          ],
          "histogram2dcontour": [
           {
            "colorbar": {
             "outlinewidth": 0,
             "ticks": ""
            },
            "colorscale": [
             [
              0,
              "#0d0887"
             ],
             [
              0.1111111111111111,
              "#46039f"
             ],
             [
              0.2222222222222222,
              "#7201a8"
             ],
             [
              0.3333333333333333,
              "#9c179e"
             ],
             [
              0.4444444444444444,
              "#bd3786"
             ],
             [
              0.5555555555555556,
              "#d8576b"
             ],
             [
              0.6666666666666666,
              "#ed7953"
             ],
             [
              0.7777777777777778,
              "#fb9f3a"
             ],
             [
              0.8888888888888888,
              "#fdca26"
             ],
             [
              1,
              "#f0f921"
             ]
            ],
            "type": "histogram2dcontour"
           }
          ],
          "mesh3d": [
           {
            "colorbar": {
             "outlinewidth": 0,
             "ticks": ""
            },
            "type": "mesh3d"
           }
          ],
          "parcoords": [
           {
            "line": {
             "colorbar": {
              "outlinewidth": 0,
              "ticks": ""
             }
            },
            "type": "parcoords"
           }
          ],
          "pie": [
           {
            "automargin": true,
            "type": "pie"
           }
          ],
          "scatter": [
           {
            "fillpattern": {
             "fillmode": "overlay",
             "size": 10,
             "solidity": 0.2
            },
            "type": "scatter"
           }
          ],
          "scatter3d": [
           {
            "line": {
             "colorbar": {
              "outlinewidth": 0,
              "ticks": ""
             }
            },
            "marker": {
             "colorbar": {
              "outlinewidth": 0,
              "ticks": ""
             }
            },
            "type": "scatter3d"
           }
          ],
          "scattercarpet": [
           {
            "marker": {
             "colorbar": {
              "outlinewidth": 0,
              "ticks": ""
             }
            },
            "type": "scattercarpet"
           }
          ],
          "scattergeo": [
           {
            "marker": {
             "colorbar": {
              "outlinewidth": 0,
              "ticks": ""
             }
            },
            "type": "scattergeo"
           }
          ],
          "scattergl": [
           {
            "marker": {
             "colorbar": {
              "outlinewidth": 0,
              "ticks": ""
             }
            },
            "type": "scattergl"
           }
          ],
          "scattermapbox": [
           {
            "marker": {
             "colorbar": {
              "outlinewidth": 0,
              "ticks": ""
             }
            },
            "type": "scattermapbox"
           }
          ],
          "scatterpolar": [
           {
            "marker": {
             "colorbar": {
              "outlinewidth": 0,
              "ticks": ""
             }
            },
            "type": "scatterpolar"
           }
          ],
          "scatterpolargl": [
           {
            "marker": {
             "colorbar": {
              "outlinewidth": 0,
              "ticks": ""
             }
            },
            "type": "scatterpolargl"
           }
          ],
          "scatterternary": [
           {
            "marker": {
             "colorbar": {
              "outlinewidth": 0,
              "ticks": ""
             }
            },
            "type": "scatterternary"
           }
          ],
          "surface": [
           {
            "colorbar": {
             "outlinewidth": 0,
             "ticks": ""
            },
            "colorscale": [
             [
              0,
              "#0d0887"
             ],
             [
              0.1111111111111111,
              "#46039f"
             ],
             [
              0.2222222222222222,
              "#7201a8"
             ],
             [
              0.3333333333333333,
              "#9c179e"
             ],
             [
              0.4444444444444444,
              "#bd3786"
             ],
             [
              0.5555555555555556,
              "#d8576b"
             ],
             [
              0.6666666666666666,
              "#ed7953"
             ],
             [
              0.7777777777777778,
              "#fb9f3a"
             ],
             [
              0.8888888888888888,
              "#fdca26"
             ],
             [
              1,
              "#f0f921"
             ]
            ],
            "type": "surface"
           }
          ],
          "table": [
           {
            "cells": {
             "fill": {
              "color": "#EBF0F8"
             },
             "line": {
              "color": "white"
             }
            },
            "header": {
             "fill": {
              "color": "#C8D4E3"
             },
             "line": {
              "color": "white"
             }
            },
            "type": "table"
           }
          ]
         },
         "layout": {
          "annotationdefaults": {
           "arrowcolor": "#2a3f5f",
           "arrowhead": 0,
           "arrowwidth": 1
          },
          "autotypenumbers": "strict",
          "coloraxis": {
           "colorbar": {
            "outlinewidth": 0,
            "ticks": ""
           }
          },
          "colorscale": {
           "diverging": [
            [
             0,
             "#8e0152"
            ],
            [
             0.1,
             "#c51b7d"
            ],
            [
             0.2,
             "#de77ae"
            ],
            [
             0.3,
             "#f1b6da"
            ],
            [
             0.4,
             "#fde0ef"
            ],
            [
             0.5,
             "#f7f7f7"
            ],
            [
             0.6,
             "#e6f5d0"
            ],
            [
             0.7,
             "#b8e186"
            ],
            [
             0.8,
             "#7fbc41"
            ],
            [
             0.9,
             "#4d9221"
            ],
            [
             1,
             "#276419"
            ]
           ],
           "sequential": [
            [
             0,
             "#0d0887"
            ],
            [
             0.1111111111111111,
             "#46039f"
            ],
            [
             0.2222222222222222,
             "#7201a8"
            ],
            [
             0.3333333333333333,
             "#9c179e"
            ],
            [
             0.4444444444444444,
             "#bd3786"
            ],
            [
             0.5555555555555556,
             "#d8576b"
            ],
            [
             0.6666666666666666,
             "#ed7953"
            ],
            [
             0.7777777777777778,
             "#fb9f3a"
            ],
            [
             0.8888888888888888,
             "#fdca26"
            ],
            [
             1,
             "#f0f921"
            ]
           ],
           "sequentialminus": [
            [
             0,
             "#0d0887"
            ],
            [
             0.1111111111111111,
             "#46039f"
            ],
            [
             0.2222222222222222,
             "#7201a8"
            ],
            [
             0.3333333333333333,
             "#9c179e"
            ],
            [
             0.4444444444444444,
             "#bd3786"
            ],
            [
             0.5555555555555556,
             "#d8576b"
            ],
            [
             0.6666666666666666,
             "#ed7953"
            ],
            [
             0.7777777777777778,
             "#fb9f3a"
            ],
            [
             0.8888888888888888,
             "#fdca26"
            ],
            [
             1,
             "#f0f921"
            ]
           ]
          },
          "colorway": [
           "#636efa",
           "#EF553B",
           "#00cc96",
           "#ab63fa",
           "#FFA15A",
           "#19d3f3",
           "#FF6692",
           "#B6E880",
           "#FF97FF",
           "#FECB52"
          ],
          "font": {
           "color": "#2a3f5f"
          },
          "geo": {
           "bgcolor": "white",
           "lakecolor": "white",
           "landcolor": "#E5ECF6",
           "showlakes": true,
           "showland": true,
           "subunitcolor": "white"
          },
          "hoverlabel": {
           "align": "left"
          },
          "hovermode": "closest",
          "mapbox": {
           "style": "light"
          },
          "paper_bgcolor": "white",
          "plot_bgcolor": "#E5ECF6",
          "polar": {
           "angularaxis": {
            "gridcolor": "white",
            "linecolor": "white",
            "ticks": ""
           },
           "bgcolor": "#E5ECF6",
           "radialaxis": {
            "gridcolor": "white",
            "linecolor": "white",
            "ticks": ""
           }
          },
          "scene": {
           "xaxis": {
            "backgroundcolor": "#E5ECF6",
            "gridcolor": "white",
            "gridwidth": 2,
            "linecolor": "white",
            "showbackground": true,
            "ticks": "",
            "zerolinecolor": "white"
           },
           "yaxis": {
            "backgroundcolor": "#E5ECF6",
            "gridcolor": "white",
            "gridwidth": 2,
            "linecolor": "white",
            "showbackground": true,
            "ticks": "",
            "zerolinecolor": "white"
           },
           "zaxis": {
            "backgroundcolor": "#E5ECF6",
            "gridcolor": "white",
            "gridwidth": 2,
            "linecolor": "white",
            "showbackground": true,
            "ticks": "",
            "zerolinecolor": "white"
           }
          },
          "shapedefaults": {
           "line": {
            "color": "#2a3f5f"
           }
          },
          "ternary": {
           "aaxis": {
            "gridcolor": "white",
            "linecolor": "white",
            "ticks": ""
           },
           "baxis": {
            "gridcolor": "white",
            "linecolor": "white",
            "ticks": ""
           },
           "bgcolor": "#E5ECF6",
           "caxis": {
            "gridcolor": "white",
            "linecolor": "white",
            "ticks": ""
           }
          },
          "title": {
           "x": 0.05
          },
          "xaxis": {
           "automargin": true,
           "gridcolor": "white",
           "linecolor": "white",
           "ticks": "",
           "title": {
            "standoff": 15
           },
           "zerolinecolor": "white",
           "zerolinewidth": 2
          },
          "yaxis": {
           "automargin": true,
           "gridcolor": "white",
           "linecolor": "white",
           "ticks": "",
           "title": {
            "standoff": 15
           },
           "zerolinecolor": "white",
           "zerolinewidth": 2
          }
         }
        },
        "title": {
         "text": "Distribution of Categories and Types"
        }
       }
      }
     },
     "metadata": {},
     "output_type": "display_data"
    }
   ],
   "source": [
    "import pandas as pd\n",
    "import plotly.express as px\n",
    "\n",
    "# Assume df is your DataFrame\n",
    "df_grouped = df.groupby(['Type', 'Category']).size().reset_index(name='Counts')\n",
    "\n",
    "fig = px.treemap(df_grouped, path=['Type', 'Category'], values='Counts',\n",
    "                 color='Counts',\n",
    "                 color_continuous_scale='YlOrRd',\n",
    "                 title='Distribution of Categories and Types')\n",
    "\n",
    "fig.show()\n"
   ]
  },
  {
   "cell_type": "code",
   "execution_count": null,
   "metadata": {},
   "outputs": [],
   "source": [
    "# Aggregate and scale the data\n",
    "df_agg = df.groupby(['Type', 'Category']).size().reset_index(name='count')\n",
    "df_agg['scaled_count'] = df_agg['count'] / df_agg['count'].max()\n"
   ]
  },
  {
   "cell_type": "code",
   "execution_count": null,
   "metadata": {},
   "outputs": [],
   "source": [
    "df_agg"
   ]
  },
  {
   "cell_type": "code",
   "execution_count": null,
   "metadata": {},
   "outputs": [],
   "source": [
    "\n",
    "# Convert the data dictionary into a dataframe\n",
    "dfx = df[[\"Category\", \"Type\"]]\n",
    "# Melt the dataframe into a long format\n",
    "df_melted = pd.melt(dfx, var_name='Parent', value_name='Label')\n",
    "\n"
   ]
  },
  {
   "cell_type": "code",
   "execution_count": null,
   "metadata": {},
   "outputs": [],
   "source": [
    "# Sort the values by Parent and Label\n",
    "df_sorted = df_melted.sort_values(by=['Parent', 'Label'])\n",
    "\n",
    "# Create the lists of labels and parents\n",
    "labels = df_sorted['Label'].tolist()\n",
    "parents = [''] + df_sorted['Parent'].tolist() + ['']"
   ]
  },
  {
   "cell_type": "code",
   "execution_count": null,
   "metadata": {},
   "outputs": [],
   "source": [
    "labels[1:10]"
   ]
  },
  {
   "cell_type": "code",
   "execution_count": null,
   "metadata": {},
   "outputs": [],
   "source": [
    "# Create the treemap\n",
    "fig = go.Figure(go.Treemap(\n",
    "    labels=labels,\n",
    "    parents=parents,\n",
    "    marker=dict(\n",
    "        colorscale='Viridis',\n",
    "        colorbar=dict(\n",
    "            thickness=15,\n",
    "            title='Count',\n",
    "            xanchor='left',\n",
    "            titleside='right'\n",
    "        )\n",
    "    )\n",
    ")\n",
    ")\n",
    "\n",
    "\n",
    "# Display the figure\n",
    "fig.show()"
   ]
  },
  {
   "cell_type": "code",
   "execution_count": null,
   "metadata": {},
   "outputs": [],
   "source": [
    "df_melted"
   ]
  },
  {
   "cell_type": "code",
   "execution_count": null,
   "metadata": {},
   "outputs": [],
   "source": [
    "# Create the figure\n",
    "fig = go.Figure(go.Treemap(\n",
    "    labels=df[\"Category\"],\n",
    "    parents=df[\"Type/Category\"],\n",
    "    root_color=\"red\"\n",
    "))"
   ]
  },
  {
   "cell_type": "code",
   "execution_count": null,
   "metadata": {},
   "outputs": [],
   "source": [
    "# Create the layout\n",
    "layout = html.Div([\n",
    "    html.H1('Plot 3'),\n",
    "    dcc.Graph(id='treemap', figure=fig)  # wrap the figure in a dcc.Graph\n",
    "])\n",
    "\n",
    "print(layout)\n",
    "fig.show()"
   ]
  },
  {
   "cell_type": "code",
   "execution_count": null,
   "metadata": {},
   "outputs": [],
   "source": [
    "import plotly.express as px\n",
    "df = px.data.tips()\n",
    "figx = px.treemap(df, path=[px.Constant(\"all\"), 'day', 'time', 'sex'], values='total_bill')\n",
    "figx.update_traces(root_color=\"lightgrey\")\n",
    "figx.update_layout(margin = dict(t=50, l=25, r=25, b=25))\n",
    "figx.show()\n",
    "\n",
    "layout2 = html.Div([\n",
    "    html.H1('Plot 3'),\n",
    "    dcc.Graph(id='treemap', figure=figx)  # wrap the figure in a dcc.Graph\n",
    "])\n",
    "print(layout2)\n"
   ]
  }
 ],
 "metadata": {
  "kernelspec": {
   "display_name": "venv",
   "language": "python",
   "name": "python3"
  },
  "language_info": {
   "codemirror_mode": {
    "name": "ipython",
    "version": 3
   },
   "file_extension": ".py",
   "mimetype": "text/x-python",
   "name": "python",
   "nbconvert_exporter": "python",
   "pygments_lexer": "ipython3",
   "version": "3.8.10"
  },
  "orig_nbformat": 4
 },
 "nbformat": 4,
 "nbformat_minor": 2
}
