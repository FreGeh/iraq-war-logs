{
 "cells": [
  {
   "cell_type": "code",
   "execution_count": 3,
   "metadata": {},
   "outputs": [],
   "source": [
    "from shapely.geometry import shape, mapping\n",
    "from shapely.ops import unary_union\n",
    "import geojson\n",
    "\n",
    "def merge_provinces(geojson_file, province_names):\n",
    "    with open(geojson_file, 'r') as f:\n",
    "        data = geojson.load(f)\n",
    "\n",
    "    provinces_to_merge = [feature for feature in data['features'] if feature['properties']['NAME_1'] in province_names]\n",
    "\n",
    "    shapes = [shape(feature['geometry']) for feature in provinces_to_merge]\n",
    "\n",
    "    merged = unary_union(shapes)\n",
    "\n",
    "    merged_geojson = geojson.Feature(geometry=mapping(merged), properties={\"NAME_1\": \"Merged Area\"})\n",
    "\n",
    "    return merged_geojson\n",
    "\n",
    "def write_to_geojson(merged_provinces, output_file):\n",
    "    feature_collection = geojson.FeatureCollection(merged_provinces)\n",
    "\n",
    "    with open(output_file, 'w') as f:\n",
    "        geojson.dump(feature_collection, f)\n"
   ]
  },
  {
   "cell_type": "code",
   "execution_count": 4,
   "metadata": {},
   "outputs": [],
   "source": [
    "province_groups = [\n",
    "    (\"MNF-W\", [\"Al-Anbar\"]),\n",
    "    (\"MND-C\", [\"Karbala\", \"Wasit\", \"Al-Qadisiyah\", \"Al-Najaf\", \"Babil\"]),\n",
    "    (\"MND-SE\", [\"Al-Basrah\", \"Maysan\", \"Al-Muthannia\", \"Dhi-Qar\"]),\n",
    "    (\"MND-BAGHDAD\", [\"Baghdad\"]),\n",
    "    (\"MND-N\", [\"At-Ta'mim\", \"Sala ad-Din\", \"Diyala\", \"As-Sulaymaniyah\", \"Ninawa\", \"Dihok\", \"Arbil\"]),\n",
    "]\n",
    "\n",
    "merged_provinces = []\n",
    "\n",
    "for new_name, province_names in province_groups:\n",
    "    merged_province = merge_provinces(\"iraq_provinces.geojson\", province_names)\n",
    "    merged_province[\"properties\"][\"NAME_1\"] = new_name\n",
    "    merged_provinces.append(merged_province)\n",
    "\n",
    "write_to_geojson(merged_provinces, \"merged_provinces.geojson\")\n"
   ]
  }
 ],
 "metadata": {
  "kernelspec": {
   "display_name": "Python 3",
   "language": "python",
   "name": "python3"
  },
  "language_info": {
   "codemirror_mode": {
    "name": "ipython",
    "version": 3
   },
   "file_extension": ".py",
   "mimetype": "text/x-python",
   "name": "python",
   "nbconvert_exporter": "python",
   "pygments_lexer": "ipython3",
   "version": "3.8.10"
  },
  "orig_nbformat": 4,
  "vscode": {
   "interpreter": {
    "hash": "aee8b7b246df8f9039afb4144a1f6fd8d2ca17a180786b69acc140d282b71a49"
   }
  }
 },
 "nbformat": 4,
 "nbformat_minor": 2
}
